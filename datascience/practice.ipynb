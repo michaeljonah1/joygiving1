{
 "cells": [
  {
   "cell_type": "code",
   "execution_count": 1,
   "id": "3dc1099a",
   "metadata": {},
   "outputs": [
    {
     "name": "stdout",
     "output_type": "stream",
     "text": [
      "kenny michael\n"
     ]
    }
   ],
   "source": [
    "print(\"kenny michael\")"
   ]
  },
  {
   "cell_type": "code",
   "execution_count": 3,
   "id": "ab3bd2f1",
   "metadata": {},
   "outputs": [
    {
     "data": {
      "text/plain": [
       "15"
      ]
     },
     "execution_count": 3,
     "metadata": {},
     "output_type": "execute_result"
    }
   ],
   "source": [
    "10 + 5"
   ]
  },
  {
   "cell_type": "code",
   "execution_count": 4,
   "id": "d339e03c",
   "metadata": {},
   "outputs": [
    {
     "name": "stdout",
     "output_type": "stream",
     "text": [
      "hello world!\n"
     ]
    }
   ],
   "source": [
    "print(\"hello world!\")"
   ]
  },
  {
   "cell_type": "code",
   "execution_count": null,
   "id": "74c9216e",
   "metadata": {},
   "outputs": [],
   "source": [
    "the world is definitely crazy"
   ]
  },
  {
   "cell_type": "code",
   "execution_count": 5,
   "id": "2e11c5de",
   "metadata": {},
   "outputs": [
    {
     "name": "stdout",
     "output_type": "stream",
     "text": [
      "queenie\n"
     ]
    }
   ],
   "source": [
    "print(\"queenie\")"
   ]
  }
 ],
 "metadata": {
  "kernelspec": {
   "display_name": "Python 3 (ipykernel)",
   "language": "python",
   "name": "python3"
  },
  "language_info": {
   "codemirror_mode": {
    "name": "ipython",
    "version": 3
   },
   "file_extension": ".py",
   "mimetype": "text/x-python",
   "name": "python",
   "nbconvert_exporter": "python",
   "pygments_lexer": "ipython3",
   "version": "3.11.5"
  }
 },
 "nbformat": 4,
 "nbformat_minor": 5
}
